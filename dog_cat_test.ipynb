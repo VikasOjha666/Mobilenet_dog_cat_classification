{
 "cells": [
  {
   "cell_type": "code",
   "execution_count": 17,
   "metadata": {},
   "outputs": [],
   "source": [
    "import numpy as np\n",
    "from keras.preprocessing import image\n"
   ]
  },
  {
   "cell_type": "code",
   "execution_count": 18,
   "metadata": {},
   "outputs": [],
   "source": [
    "file_dir='E:/CATS_DOGS/CATS_DOGS/test/DOG/9416.jpg'\n",
    "dog_img=image.load_img(file_dir,target_size=(150,150))\n",
    "dog_img=image.img_to_array(dog_img)\n",
    "dog_img=np.expand_dims(dog_img,axis=0)\n",
    "dog_img=dog_img/255\n",
    "\n"
   ]
  },
  {
   "cell_type": "code",
   "execution_count": 19,
   "metadata": {},
   "outputs": [],
   "source": [
    "#Building the model.\n",
    "from keras.models import Sequential,Model\n",
    "from keras.layers import ZeroPadding2D,Conv2D,BatchNormalization,DepthwiseConv2D,Input,Activation,GlobalAveragePooling2D,Reshape,Dropout\n",
    "from keras import backend as K\n",
    "from keras import layers\n",
    "from keras.activations import relu\n",
    "relu_advanced = lambda x: relu(x, max_value=6.)\n",
    "\n",
    "def normal_conv_block(inputs,filters,alpha,kernel=(3,3),strides=(1,1)):\n",
    "    filters=int(filters*alpha)\n",
    "    x=ZeroPadding2D(padding=((0,1),(0,1)),name='conv1_pad')(inputs)\n",
    "    x=Conv2D(filters,kernel,padding='valid',use_bias=False,strides=strides,name='conv1')(x)\n",
    "    x=BatchNormalization(axis=1 if K.image_data_format() == 'channels_first' else -1,name='conv1_bn')(x)\n",
    "    return Activation(relu_advanced)(x)\n",
    "def depth_wise_conv_block(inputs, pointwise_conv_filters, alpha,depth_multiplier=1, strides=(1, 1), block_id=1):\n",
    "    pointwise_conv_filters = int(pointwise_conv_filters * alpha)\n",
    "\n",
    "    if strides == (1, 1):\n",
    "        x = inputs\n",
    "    else:\n",
    "        x =ZeroPadding2D(((0, 1), (0, 1)),name='conv_pad_%d' % block_id)(inputs)\n",
    "    x = DepthwiseConv2D((3, 3),\n",
    "                               padding='same' if strides == (1, 1) else 'valid',\n",
    "                               depth_multiplier=depth_multiplier,\n",
    "                               strides=strides,\n",
    "                               use_bias=False,\n",
    "                               name='conv_dw_%d' % block_id)(x)\n",
    "    x = BatchNormalization(axis=1 if K.image_data_format() == 'channels_first' else -1, name='conv_dw_%d_bn' % block_id)(x)\n",
    "        \n",
    "    x = Activation(relu_advanced)(x)\n",
    "\n",
    "    x = Conv2D(pointwise_conv_filters, (1, 1),\n",
    "                      padding='same',\n",
    "                      use_bias=False,\n",
    "                      strides=(1, 1),\n",
    "                      name='conv_pw_%d' % block_id)(x)\n",
    "    x = BatchNormalization(axis=1 if K.image_data_format() == 'channels_first' else -1,\n",
    "                                  name='conv_pw_%d_bn' % block_id)(x)\n",
    "    return Activation(relu_advanced)(x)\n",
    "    \n",
    "    \n",
    "#Main model\n",
    "def get_model(input_shape=(150,150,3),\n",
    "              alpha=1.0,\n",
    "              depth_multiplier=1,\n",
    "              dropout=1e-3,\n",
    "              include_top=True,\n",
    "              input_tensor=None,\n",
    "              pooling=None,\n",
    "              classes=2,\n",
    "              ):\n",
    "    if input_tensor is None:\n",
    "        img_input = layers.Input(shape=input_shape)\n",
    "    else:\n",
    "        if not backend.is_keras_tensor(input_tensor):\n",
    "            img_input = layers.Input(tensor=input_tensor, shape=input_shape)\n",
    "        else:\n",
    "            img_input = input_tensor\n",
    "    \n",
    "    \n",
    "    x = normal_conv_block(img_input, 32, alpha, strides=(2, 2))\n",
    "    x = depth_wise_conv_block(x, 64, alpha, depth_multiplier, block_id=1)\n",
    "\n",
    "    x = depth_wise_conv_block(x, 128, alpha, depth_multiplier,strides=(2, 2), block_id=2)\n",
    "    x = depth_wise_conv_block(x, 128, alpha, depth_multiplier, block_id=3)\n",
    "\n",
    "    x = depth_wise_conv_block(x, 256, alpha, depth_multiplier,strides=(2, 2), block_id=4)\n",
    "    x = depth_wise_conv_block(x, 256, alpha, depth_multiplier, block_id=5)\n",
    "\n",
    "    x = depth_wise_conv_block(x, 512, alpha, depth_multiplier, strides=(2, 2), block_id=6)\n",
    "    x = depth_wise_conv_block(x, 512, alpha, depth_multiplier, block_id=7)\n",
    "    x = depth_wise_conv_block(x, 512, alpha, depth_multiplier, block_id=8)\n",
    "    x = depth_wise_conv_block(x, 512, alpha, depth_multiplier, block_id=9)\n",
    "    x = depth_wise_conv_block(x, 512, alpha, depth_multiplier, block_id=10)\n",
    "    x = depth_wise_conv_block(x, 512, alpha, depth_multiplier, block_id=11)\n",
    "\n",
    "    x = depth_wise_conv_block(x, 1024, alpha, depth_multiplier,strides=(2, 2), block_id=12)\n",
    "    x = depth_wise_conv_block(x, 1024, alpha, depth_multiplier, block_id=13)\n",
    "    \n",
    "    if include_top:\n",
    "        if K.image_data_format() == 'channels_first':\n",
    "            shape = (int(1024 * alpha), 1, 1)\n",
    "        else:\n",
    "            shape = (1, 1, int(1024 * alpha))\n",
    "\n",
    "        x = GlobalAveragePooling2D()(x)\n",
    "        x = Reshape(shape, name='reshape_1')(x)\n",
    "        x = Dropout(dropout, name='dropout')(x)\n",
    "        x = Conv2D(classes, (1, 1),\n",
    "                          padding='same',\n",
    "                          name='conv_preds')(x)\n",
    "        x = Reshape((classes,), name='reshape_2')(x)\n",
    "        x = Activation('softmax', name='act_softmax')(x)\n",
    "    else:\n",
    "        if pooling == 'avg':\n",
    "            x = GlobalAveragePooling2D()(x)\n",
    "        elif pooling == 'max':\n",
    "            x = GlobalMaxPooling2D()(x)\n",
    "            \n",
    "    return Model(img_input,x)\n",
    "            \n",
    "model=get_model()\n",
    "\n",
    "def predict_class(model,img):\n",
    "    arr=model.predict(img)\n",
    "    return np.argmax(arr)\n",
    "    \n",
    "\n",
    "    \n"
   ]
  },
  {
   "cell_type": "code",
   "execution_count": 20,
   "metadata": {},
   "outputs": [],
   "source": [
    "model.load_weights('Dog_cat_mobilenet_weights.h5')\n",
    "model.compile(loss='binary_crossentropy',optimizer='rmsprop',metrics=['accuracy'])"
   ]
  },
  {
   "cell_type": "code",
   "execution_count": 21,
   "metadata": {},
   "outputs": [
    {
     "name": "stdout",
     "output_type": "stream",
     "text": [
      "1\n"
     ]
    }
   ],
   "source": [
    "print(predict_class(model,dog_img))"
   ]
  },
  {
   "cell_type": "code",
   "execution_count": null,
   "metadata": {},
   "outputs": [],
   "source": []
  },
  {
   "cell_type": "code",
   "execution_count": null,
   "metadata": {},
   "outputs": [],
   "source": []
  }
 ],
 "metadata": {
  "kernelspec": {
   "display_name": "TensorFlow-GPU",
   "language": "python",
   "name": "tensorflow"
  },
  "language_info": {
   "codemirror_mode": {
    "name": "ipython",
    "version": 3
   },
   "file_extension": ".py",
   "mimetype": "text/x-python",
   "name": "python",
   "nbconvert_exporter": "python",
   "pygments_lexer": "ipython3",
   "version": "3.6.8"
  }
 },
 "nbformat": 4,
 "nbformat_minor": 2
}
